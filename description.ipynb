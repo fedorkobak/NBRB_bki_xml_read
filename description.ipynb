{
 "cells": [
  {
   "cell_type": "markdown",
   "id": "a6fd914a-768c-41c8-98dc-48a7d9114a46",
   "metadata": {},
   "source": [
    "<h1 style=\"font-size:400%; text-align:center\">Functions description</h1>"
   ]
  },
  {
   "cell_type": "code",
   "execution_count": 7,
   "id": "5fc692f9-9af1-47ec-a8b0-dcf073034eb2",
   "metadata": {},
   "outputs": [
    {
     "data": {
      "text/html": [
       "\n",
       "<style>\n",
       "    h1 {text-align:center}\n",
       "</style>\n"
      ],
      "text/plain": [
       "<IPython.core.display.HTML object>"
      ]
     },
     "metadata": {},
     "output_type": "display_data"
    },
    {
     "name": "stdout",
     "output_type": "stream",
     "text": [
      "The autoreload extension is already loaded. To reload it, use:\n",
      "  %reload_ext autoreload\n"
     ]
    }
   ],
   "source": [
    "import os\n",
    "import sys\n",
    "\n",
    "from IPython.display import HTML\n",
    "\n",
    "display(HTML('''\n",
    "<style>\n",
    "    h1 {text-align:center}\n",
    "</style>\n",
    "'''))\n",
    "\n",
    "souce_code_filepath = os.path.join(\n",
    "    os.getcwd(), \"NBRB_bki_xml_read\"\n",
    ")\n",
    "if not souce_code_filepath in sys.path:\n",
    "    sys.path.append(souce_code_filepath)\n",
    "\n",
    "%load_ext autoreload\n",
    "%autoreload 2\n",
    "    \n",
    "from NBRB_bki_xml_read.common_tools import dict_from_xmlfile,\\\n",
    "                                           recursive_dict_reader,\\\n",
    "                                           dict_reading_decorator,\\\n",
    "                                           sub_dict_reader\n",
    "from NBRB_bki_xml_read.individual_read import read_client,\\\n",
    "                                              read_result\n",
    "\n",
    "%aimport NBRB_bki_xml_read.individual_read\n",
    "%aimport NBRB_bki_xml_read.common_tools"
   ]
  },
  {
   "cell_type": "markdown",
   "id": "ff2875f9-8c5f-4f61-8d78-83e42c2cfce9",
   "metadata": {},
   "source": [
    "# `common_tools`"
   ]
  },
  {
   "cell_type": "markdown",
   "id": "a21f0a62-e61f-45b3-96c5-ca113ea19e15",
   "metadata": {},
   "source": [
    "### `dict_from_xmlfile`"
   ]
  },
  {
   "cell_type": "markdown",
   "id": "5ce6478a-d29d-4631-83f2-0206f09317b4",
   "metadata": {},
   "source": [
    "Сonsider an xml file:"
   ]
  },
  {
   "cell_type": "code",
   "execution_count": 2,
   "id": "cf877280-4aec-467f-88c5-bf0fd783f975",
   "metadata": {},
   "outputs": [
    {
     "name": "stdout",
     "output_type": "stream",
     "text": [
      "<?xml version=\"1.0\" encoding=\"windows-1251\"?>\n",
      "<root xmlns:xsi=\"http://www.w3.org/2001/XMLSchema-instance\">\n",
      "  <tbsData>\n",
      "\n",
      "    <doc_purpose>KBO11012</doc_purpose>\n",
      "\n",
      "    <message system=\"AISKB\">\n",
      "      <MessageReference>111111111111111111111111111111111111111111</MessageReference>\n",
      "      <date>11.02.2023</date>\n",
      "      <source>\n",
      "        <bic>1111111111111</bic>\n",
      "        <bankname>Some bankname</bankname>\n",
      "      </source>\n",
      "      <Response type=\"11015\" name=\"getfullhistscorefiz\">\n",
      "        <MessageLinkReference>C111111111111111111111111111111</MessageLinkReference>\n",
      "        <result>\n",
      "          <completecode class=\"A\">\n",
      "            <errorcode>0</errorcode>\n",
      "            <description>Запрос успешно обработан</description>\n",
      "          </completecode>\n",
      "          <client>\n",
      "            <titul>\n",
      "              <FIO>\n",
      "                <lastname>lastname</lastname>\n",
      "                <firstname>firstname</firstname>\n",
      "                <middlename>middlename</middlename>\n",
      "              </FIO>\n",
      "              <nationality>\n",
      "                <codCountry>112</codCountry>\n",
      "                <nameCountry>Республика Беларусь</nameCountry>\n",
      "              </nationality>\n",
      "              <sex>M</sex>\n",
      "              <IDNumber>11111111111111111111</IDNumber>\n",
      "              <birthday>01.01.2000</birthday>\n",
      "            </titul>\n",
      "            <registrationplace>\n",
      "              <country>\n",
      "                <codCountry>112</codCountry>\n",
      "                <nameCountry>Республика Беларусь</nameCountry>\n",
      "              </country>\n",
      "              <nationalplace>\n",
      "                <codSettlement>4401000000</codSettlement>\n",
      "                <nameSettlement>г. Гродно</nameSettlement>\n",
      "              </nationalplace>\n",
      "            </registrationplace>\n",
      "            <scoring>\n",
      "              <ratingclass>A3</ratingclass>\n",
      "              <finalscore>344</finalscore>\n",
      "              <finalPPD>0.36</finalPPD>\n",
      "            </scoring>\n",
      "          </client>\n",
      "        </result>\n",
      "      </Response>\n",
      "    </message>\n",
      "  </tbsData>\n",
      "  <signature_data>\n",
      "    <cert_serial_number>0000000000000000000000000000AAAAA</cert_serial_number>\n",
      "    <sign_time>2000-01-01T00:00:00.00</sign_time>\n",
      "  </signature_data>\n",
      "  <signature>111111111111111111111111111111111111111111111111111111111111111111111111111111111111</signature>\n",
      "</root>\n",
      "\n"
     ]
    }
   ],
   "source": [
    "with open(\"example_files/some_xml_file.xml\", \"rb\") as file:\n",
    "    print(file.read().decode('windows-1251'))"
   ]
  },
  {
   "cell_type": "markdown",
   "id": "dd4d69ae-8233-43c8-9233-8dcd901ac81e",
   "metadata": {},
   "source": [
    "As dict:"
   ]
  },
  {
   "cell_type": "code",
   "execution_count": 3,
   "id": "c9fdbb8a-d653-4d89-8cad-4e2b46d79458",
   "metadata": {},
   "outputs": [
    {
     "data": {
      "text/plain": [
       "{'root': {'@xmlns:xsi': 'http://www.w3.org/2001/XMLSchema-instance',\n",
       "  'tbsData': {'doc_purpose': 'KBO11012',\n",
       "   'message': {'@system': 'AISKB',\n",
       "    'MessageReference': '111111111111111111111111111111111111111111',\n",
       "    'date': '11.02.2023',\n",
       "    'source': {'bic': '1111111111111', 'bankname': 'Some bankname'},\n",
       "    'Response': {'@type': '11015',\n",
       "     '@name': 'getfullhistscorefiz',\n",
       "     'MessageLinkReference': 'C111111111111111111111111111111',\n",
       "     'result': {'completecode': {'@class': 'A',\n",
       "       'errorcode': '0',\n",
       "       'description': 'Запрос успешно обработан'},\n",
       "      'client': {'titul': {'FIO': {'lastname': 'lastname',\n",
       "         'firstname': 'firstname',\n",
       "         'middlename': 'middlename'},\n",
       "        'nationality': {'codCountry': '112',\n",
       "         'nameCountry': 'Республика Беларусь'},\n",
       "        'sex': 'M',\n",
       "        'IDNumber': '11111111111111111111',\n",
       "        'birthday': '01.01.2000'},\n",
       "       'registrationplace': {'country': {'codCountry': '112',\n",
       "         'nameCountry': 'Республика Беларусь'},\n",
       "        'nationalplace': {'codSettlement': '4401000000',\n",
       "         'nameSettlement': 'г. Гродно'}},\n",
       "       'scoring': {'ratingclass': 'A3',\n",
       "        'finalscore': '344',\n",
       "        'finalPPD': '0.36'}}}}}},\n",
       "  'signature_data': {'cert_serial_number': '0000000000000000000000000000AAAAA',\n",
       "   'sign_time': '2000-01-01T00:00:00.00'},\n",
       "  'signature': '111111111111111111111111111111111111111111111111111111111111111111111111111111111111'}}"
      ]
     },
     "execution_count": 3,
     "metadata": {},
     "output_type": "execute_result"
    }
   ],
   "source": [
    "dict_from_xmlfile(\"example_files/some_xml_file.xml\")"
   ]
  },
  {
   "cell_type": "markdown",
   "id": "5dc8eea8-899f-40c4-95ff-12bb88a620e7",
   "metadata": {},
   "source": [
    "### `recursive_dict_reader`"
   ]
  },
  {
   "cell_type": "code",
   "execution_count": 4,
   "id": "04dabc6b-7045-4416-a205-0a4d3c96cc52",
   "metadata": {},
   "outputs": [
    {
     "data": {
      "text/plain": [
       "{'level1_value': 'some_value',\n",
       " 'level1_dict.level2_dict.level3_value': 'some_value',\n",
       " 'level1_dict.level2_value': 'some_value',\n",
       " 'level1_dict.level2_value2': 'some_value2'}"
      ]
     },
     "execution_count": 4,
     "metadata": {},
     "output_type": "execute_result"
    }
   ],
   "source": [
    "example_dictionary = {\n",
    "    \"level1_value\" : \"some_value\",\n",
    "    \"level1_dict\" : {\n",
    "        \"level2_dict\" : {\n",
    "            \"level3_value\" : \"some_value\"\n",
    "        },\n",
    "        \"level2_value\" : \"some_value\",\n",
    "        \"level2_value2\" : \"some_value2\"\n",
    "    }\n",
    "}\n",
    "\n",
    "recursive_dict_reader(example_dictionary, keys_separator=\".\")"
   ]
  },
  {
   "cell_type": "markdown",
   "id": "469bcc28-eb11-4d94-bed1-aa736507a2f3",
   "metadata": {},
   "source": [
    "### `dict_reading_decorator`"
   ]
  },
  {
   "cell_type": "code",
   "execution_count": 5,
   "id": "8312fb02-b2b9-48c2-81ac-58c32f06e593",
   "metadata": {},
   "outputs": [
    {
     "name": "stdout",
     "output_type": "stream",
     "text": [
      "Сorrect dictionary\n",
      "5\n",
      "Error dictionary\n",
      "{}\n"
     ]
    }
   ],
   "source": [
    "@dict_reading_decorator\n",
    "def some_read_dict_func(d):\n",
    "    return d[\"my_key\"]\n",
    "\n",
    "print(\"Сorrect dictionary\")\n",
    "print(some_read_dict_func({\"my_key\":5}))\n",
    "print(\"Error dictionary\")\n",
    "print(some_read_dict_func({\"other_key\":5}))"
   ]
  },
  {
   "cell_type": "markdown",
   "id": "0e32ac8d-afc2-4a07-a5cd-741f1ca1b4b3",
   "metadata": {},
   "source": [
    "### `sub_dict_reader`"
   ]
  },
  {
   "cell_type": "markdown",
   "id": "72d6b78e-005d-4512-b7a2-555bb390140c",
   "metadata": {},
   "source": [
    "We will use the following dictionary as an example:"
   ]
  },
  {
   "cell_type": "code",
   "execution_count": 6,
   "id": "2b381734-e73f-40bc-bdb2-86505af20717",
   "metadata": {},
   "outputs": [],
   "source": [
    "example_dictionary = {\n",
    "    \"level1_value\" : \"some_value\",\n",
    "    \"level1_dict\" : {\n",
    "        \"level2_dict\" : {\n",
    "            \"level3_value\" : \"some_value\"\n",
    "        },\n",
    "        \"level2_value\" : \"some_value\",\n",
    "        \"level2_value2\" : \"some_value2\"\n",
    "    }\n",
    "}"
   ]
  },
  {
   "cell_type": "markdown",
   "id": "15700193-b1af-4b47-b4f2-2ef7d18c3713",
   "metadata": {},
   "source": [
    "Suppose you want to extract `level1_dict` as a flat dictionary, you can use `recursive_dict_reader` to do this:"
   ]
  },
  {
   "cell_type": "code",
   "execution_count": 7,
   "id": "e10c7854-cd93-4131-9d1f-89adc02ccdcf",
   "metadata": {},
   "outputs": [
    {
     "data": {
      "text/plain": [
       "{'level2_dict/level3_value': 'some_value',\n",
       " 'level2_value': 'some_value',\n",
       " 'level2_value2': 'some_value2'}"
      ]
     },
     "execution_count": 7,
     "metadata": {},
     "output_type": "execute_result"
    }
   ],
   "source": [
    "recursive_dict_reader(example_dictionary[\"level1_dict\"])"
   ]
  },
  {
   "cell_type": "markdown",
   "id": "2a680ef7-6fa9-4c4b-9481-af4c637f7c18",
   "metadata": {},
   "source": [
    "But it's really common when you want to store `level1_dict` names in flat indexes. To achieve this you will write something like this:"
   ]
  },
  {
   "cell_type": "code",
   "execution_count": 8,
   "id": "1a4ceb44-d999-49af-854f-0c92923e5e0b",
   "metadata": {},
   "outputs": [
    {
     "data": {
      "text/plain": [
       "{'level1_dict/level2_dict/level3_value': 'some_value',\n",
       " 'level1_dict/level2_value': 'some_value',\n",
       " 'level1_dict/level2_value2': 'some_value2'}"
      ]
     },
     "execution_count": 8,
     "metadata": {},
     "output_type": "execute_result"
    }
   ],
   "source": [
    "{\n",
    "    \"level1_dict/\" + key : value\n",
    "    for key,value in \n",
    "    recursive_dict_reader(example_dictionary[\"level1_dict\"]).items()\n",
    "}"
   ]
  },
  {
   "cell_type": "markdown",
   "id": "183e08dd-64e9-4140-8ef5-b1423b11ca08",
   "metadata": {},
   "source": [
    "You can achieve the same result by using `sub_dict_reader`:"
   ]
  },
  {
   "cell_type": "code",
   "execution_count": 9,
   "id": "e4823096-c446-4619-bffc-dcd540d76152",
   "metadata": {},
   "outputs": [
    {
     "data": {
      "text/plain": [
       "{'level1_dict|level2_dict|level3_value': 'some_value',\n",
       " 'level1_dict|level2_value': 'some_value',\n",
       " 'level1_dict|level2_value2': 'some_value2'}"
      ]
     },
     "execution_count": 9,
     "metadata": {},
     "output_type": "execute_result"
    }
   ],
   "source": [
    "sub_dict_reader(example_dictionary, \"level1_dict\", keys_separator = \"|\")"
   ]
  },
  {
   "cell_type": "markdown",
   "id": "d769fffb-ed23-4451-87b7-9dec8daf7b29",
   "metadata": {},
   "source": [
    "# `individual_read`"
   ]
  },
  {
   "cell_type": "markdown",
   "id": "64011e0e-ccf5-4c95-9bb3-d1f0b7c3477d",
   "metadata": {},
   "source": [
    "### `read_client`"
   ]
  },
  {
   "cell_type": "code",
   "execution_count": 13,
   "id": "2eaa76df-6e21-46bb-a260-a9abfabbcf14",
   "metadata": {},
   "outputs": [
    {
     "data": {
      "text/plain": [
       "{'client*titul*FIO*lastname': 'lastname',\n",
       " 'client*titul*FIO*firstname': 'firstname',\n",
       " 'client*titul*FIO*middlename': 'middlename',\n",
       " 'client*titul*nationality*codCountry': '112',\n",
       " 'client*titul*nationality*nameCountry': 'Республика Беларусь',\n",
       " 'client*titul*sex': 'M',\n",
       " 'client*titul*IDNumber': '1111111111111',\n",
       " 'client*titul*birthday': '01.01.2000',\n",
       " 'client*registrationplace*country*codCountry': '112',\n",
       " 'client*registrationplace*country*nameCountry': 'Республика Беларусь',\n",
       " 'client*registrationplace*nationalplace*codSettlement': '1212000000',\n",
       " 'client*registrationplace*nationalplace*nameSettlement': 'обл. Брестская, р-н Брестский район',\n",
       " 'client*scoring*ratingclass': 'B1',\n",
       " 'client*scoring*finalscore': '325',\n",
       " 'client*scoring*finalPPD': '0.50'}"
      ]
     },
     "execution_count": 13,
     "metadata": {},
     "output_type": "execute_result"
    }
   ],
   "source": [
    "client_example = {\n",
    "    'titul': {\n",
    "        'FIO': {\n",
    "            'lastname': 'lastname',\n",
    "            'firstname': 'firstname',\n",
    "            'middlename': 'middlename'\n",
    "        },\n",
    "        'nationality': {\n",
    "            'codCountry': '112', \n",
    "            'nameCountry': 'Республика Беларусь'\n",
    "        },\n",
    "        'sex': 'M',\n",
    "        'IDNumber': '1111111111111',\n",
    "        'birthday': '01.01.2000'\n",
    "    },\n",
    "    'registrationplace': {\n",
    "        'country': {\n",
    "            'codCountry': '112',\n",
    "            'nameCountry': 'Республика Беларусь'},\n",
    "            'nationalplace': {\n",
    "                'codSettlement': '1212000000',\n",
    "                'nameSettlement': 'обл. Брестская, р-н Брестский район'\n",
    "            }\n",
    "    },\n",
    "    'scoring': {\n",
    "        'ratingclass': 'B1', \n",
    "        'finalscore': '325', \n",
    "        'finalPPD': '0.50'\n",
    "    },\n",
    "}\n",
    "\n",
    "read_client(client_example, keys_separator = \"*\")"
   ]
  },
  {
   "cell_type": "markdown",
   "id": "4d61ebfd-217a-4d7b-a396-980f915f81d6",
   "metadata": {},
   "source": [
    "### `read_result`"
   ]
  },
  {
   "cell_type": "code",
   "execution_count": 10,
   "id": "3b6fc1f4-b0c3-4fca-95fe-c966b71c8fb9",
   "metadata": {},
   "outputs": [
    {
     "data": {
      "text/plain": [
       "{'result_completecode_@class': 'A',\n",
       " 'result_completecode_errorcode': '0',\n",
       " 'result_completecode_description': 'Запрос успешно обработан',\n",
       " 'result_client_titul_FIO_lastname': 'lastname',\n",
       " 'result_client_titul_FIO_firstname': 'firstname',\n",
       " 'result_client_titul_FIO_middlename': 'middlename',\n",
       " 'result_client_titul_nationality_codCountry': '112',\n",
       " 'result_client_titul_nationality_nameCountry': 'Республика Беларусь',\n",
       " 'result_client_titul_sex': 'M',\n",
       " 'result_client_titul_IDNumber': '**************',\n",
       " 'result_client_titul_birthday': '01.01.2000',\n",
       " 'result_client_registrationplace_country_codCountry': '112',\n",
       " 'result_client_registrationplace_country_nameCountry': 'Республика Беларусь',\n",
       " 'result_client_registrationplace_nationalplace_codSettlement': '5000000000',\n",
       " 'result_client_registrationplace_nationalplace_nameSettlement': 'г. Минск',\n",
       " 'result_client_scoring_ratingclass': 'B2',\n",
       " 'result_client_scoring_finalscore': '288',\n",
       " 'result_client_scoring_finalPPD': '0.95'}"
      ]
     },
     "execution_count": 10,
     "metadata": {},
     "output_type": "execute_result"
    }
   ],
   "source": [
    "result = {\n",
    "    'completecode': {\n",
    "        '@class': 'A',\n",
    "        'errorcode': '0',\n",
    "        'description': 'Запрос успешно обработан'\n",
    "    },\n",
    "    'client': {\n",
    "        'titul': {\n",
    "            'FIO': {\n",
    "                'lastname': 'lastname',\n",
    "                'firstname': 'firstname',\n",
    "                'middlename': 'middlename'\n",
    "            },\n",
    "            'nationality': {\n",
    "                'codCountry': '112', \n",
    "                'nameCountry': 'Республика Беларусь'\n",
    "            },\n",
    "           'sex': 'M',\n",
    "           'IDNumber': '**************',\n",
    "           'birthday': '01.01.2000'\n",
    "        },\n",
    "        'registrationplace': {\n",
    "            'country': {\n",
    "                'codCountry': '112',\n",
    "                'nameCountry': 'Республика Беларусь'\n",
    "            },\n",
    "            'nationalplace': {\n",
    "                'codSettlement': '5000000000',\n",
    "                'nameSettlement': 'г. Минск'\n",
    "            }\n",
    "        },\n",
    "        'scoring': {\n",
    "            'ratingclass': 'B2', \n",
    "            'finalscore': '288', \n",
    "            'finalPPD': '0.95'\n",
    "        }\n",
    "    }\n",
    "}\n",
    "\n",
    "read_result(result, keys_separator = \"_\")"
   ]
  }
 ],
 "metadata": {
  "kernelspec": {
   "display_name": "Python 3 (ipykernel)",
   "language": "python",
   "name": "python3"
  },
  "language_info": {
   "codemirror_mode": {
    "name": "ipython",
    "version": 3
   },
   "file_extension": ".py",
   "mimetype": "text/x-python",
   "name": "python",
   "nbconvert_exporter": "python",
   "pygments_lexer": "ipython3",
   "version": "3.10.6"
  }
 },
 "nbformat": 4,
 "nbformat_minor": 5
}
